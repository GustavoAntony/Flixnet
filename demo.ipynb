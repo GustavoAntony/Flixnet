{
 "cells": [
  {
   "cell_type": "code",
   "execution_count": 2,
   "metadata": {},
   "outputs": [],
   "source": [
    "#Realizando os imports\n",
    "import numpy as np\n",
    "import pandas as pd\n",
    "import matplotlib.pyplot as plt \n",
    "import copy\n",
    "from scipy.linalg import svd, diagsvd\n"
   ]
  },
  {
   "cell_type": "code",
   "execution_count": 3,
   "metadata": {},
   "outputs": [],
   "source": []
  },
  {
   "cell_type": "code",
   "execution_count": 4,
   "metadata": {},
   "outputs": [],
   "source": [
    "#Criando o dataframe com os dados\n",
    "df = pd.read_csv(\"ratings_small.csv\")\n",
    "# Cria a matriz\n",
    "matriz = df.pivot_table(index='userId', columns='movieId', values='rating')\n",
    "matriz = matriz.fillna(0)\n",
    "\n",
    "A = matriz.values"
   ]
  },
  {
   "cell_type": "code",
   "execution_count": 24,
   "metadata": {},
   "outputs": [],
   "source": [
    "# # Importe a biblioteca pandas\n",
    "\n",
    "# # Crie um DataFrame pivot de exemplo\n",
    "\n",
    "# # Insira o valor 10 na célula da coluna 'B' e índice 'x'\n",
    "# df.loc['B', 'x'] = 10\n",
    "\n",
    "# # Salve as alterações no DataFrame\n",
    "# df.to_csv('meu_dataframe.csv', index=False)"
   ]
  },
  {
   "cell_type": "code",
   "execution_count": 5,
   "metadata": {},
   "outputs": [],
   "source": [
    "# Exibe a matriz\n",
    "up, pp, pf = svd(A)"
   ]
  },
  {
   "cell_type": "code",
   "execution_count": 55,
   "metadata": {},
   "outputs": [
    {
     "data": {
      "image/png": "[encoded data removed]",
      "text/plain": [
       "<Figure size 640x480 with 1 Axes>"
      ]
     },
     "metadata": {},
     "output_type": "display_data"
    }
   ],
   "source": [
    "plt.figure()\n",
    "plt.plot(pp[:400])\n",
    "plt.show()"
   ]
  },
  {
   "cell_type": "code",
   "execution_count": 20,
   "metadata": {},
   "outputs": [
    {
     "name": "stdout",
     "output_type": "stream",
     "text": [
      "2.917831317784618 0.0\n"
     ]
    }
   ],
   "source": [
    "A[1,8]\n",
    "\n",
    "\n",
    "B = copy.deepcopy(A)\n",
    "\n",
    "\n",
    "B[1,8] = 5\n",
    "\n",
    "\n",
    "u, s, vt = svd(B)\n",
    "\n",
    "\n",
    "u_, s_, vt_ = comprimir(u,s,vt,400)\n",
    "\n",
    "B2 = u_ @ np.diag(s_) @ vt_ \n",
    "\n",
    "print(B2[1,8], A[1,8])"
   ]
  },
  {
   "cell_type": "code",
   "execution_count": 56,
   "metadata": {},
   "outputs": [
    {
     "ename": "TypeError",
     "evalue": "'numpy.ndarray' object is not callable",
     "output_type": "error",
     "traceback": [
      "\u001b[1;31m---------------------------------------------------------------------------\u001b[0m",
      "\u001b[1;31mTypeError\u001b[0m                                 Traceback (most recent call last)",
      "Cell \u001b[1;32mIn[56], line 8\u001b[0m\n\u001b[0;32m      4\u001b[0m \u001b[39mfor\u001b[39;00m i \u001b[39min\u001b[39;00m \u001b[39mrange\u001b[39m(\u001b[39m1\u001b[39m):\n\u001b[0;32m      6\u001b[0m     a, pos  \u001b[39m=\u001b[39m introduzRuido(matriz,\u001b[39m1\u001b[39m)\n\u001b[1;32m----> 8\u001b[0m     A \u001b[39m=\u001b[39m a\u001b[39m.\u001b[39;49mvalues()\n\u001b[0;32m      9\u001b[0m     B \u001b[39m=\u001b[39m copy\u001b[39m.\u001b[39mdeepcopy(A)\n\u001b[0;32m     15\u001b[0m     u_, s_, vt_ \u001b[39m=\u001b[39m comprimir(u,s,vt,\u001b[39m380\u001b[39m)\n",
      "\u001b[1;31mTypeError\u001b[0m: 'numpy.ndarray' object is not callable"
     ]
    }
   ],
   "source": [
    "from functions import introduzRuido\n",
    "\n",
    "\n",
    "for i in range(1):\n",
    "\n",
    "    a, pos  = introduzRuido(matriz,1)\n",
    "\n",
    "    A = a.values()\n",
    "    B = copy.deepcopy(A)\n",
    "    u_, s_, vt_ = comprimir(u,s,vt,380)\n",
    "    B2 = u_ @ np.diag(s_) @ vt_ \n",
    "    print(B2[pos[0], pos[1]], A[pos[0], pos[1]])\n",
    "\n",
    "\n",
    "\n"
   ]
  },
  {
   "cell_type": "code",
   "execution_count": 51,
   "metadata": {},
   "outputs": [
    {
     "data": {
      "text/plain": [
       "[(166, 3539), (645, 4972), (311, 88235), (509, 5120), (108, 260), (457, 44555)]"
      ]
     },
     "execution_count": 51,
     "metadata": {},
     "output_type": "execute_result"
    }
   ],
   "source": []
  },
  {
   "cell_type": "code",
   "execution_count": null,
   "metadata": {},
   "outputs": [],
   "source": []
  }
 ],
 "metadata": {
  "kernelspec": {
   "display_name": "venv",
   "language": "python",
   "name": "python3"
  },
  "language_info": {
   "codemirror_mode": {
    "name": "ipython",
    "version": 3
   },
   "file_extension": ".py",
   "mimetype": "text/x-python",
   "name": "python",
   "nbconvert_exporter": "python",
   "pygments_lexer": "ipython3",
   "version": "3.11.3"
  },
  "orig_nbformat": 4
 },
 "nbformat": 4,
 "nbformat_minor": 2
}
