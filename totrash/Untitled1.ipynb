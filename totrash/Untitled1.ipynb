{
  "nbformat": 4,
  "nbformat_minor": 0,
  "metadata": {
    "colab": {
      "provenance": []
    },
    "kernelspec": {
      "name": "python3",
      "display_name": "Python 3"
    },
    "language_info": {
      "name": "python"
    }
  },
  "cells": [
    {
      "cell_type": "code",
      "source": [
        "#Realizando os imports\n",
        "import numpy as np\n",
        "import pandas as pd\n",
        "import matplotlib.pyplot as plt \n",
        "import copy\n",
        "from scipy.linalg import svd, diagsvd\n"
      ],
      "metadata": {
        "id": "urH6NLS2Shr5"
      },
      "execution_count": 2,
      "outputs": []
    },
    {
      "cell_type": "code",
      "source": [
        "import pandas as pd\n",
        "import numpy as np\n",
        "from random import randint\n",
        "\n",
        "def comprimir (u, s, vt, K):\n",
        "    \"\"\"Remove elementos de u, s e vt deixando somente K componentes restantes\n",
        "    \"\"\" \n",
        "    u_ = u[:,0:K]\n",
        "    s_ = s[:K]\n",
        "    vt_ = vt[:K,:]\n",
        "    return u_, s_, vt_\n",
        "\n",
        "def introduzRuido(matriz, num_ruidos):\n",
        "    # verificando todos os campos que são diferentes de NaN\n",
        "    coordenadas = list(np.argwhere(matriz != 0))\n",
        "    lista_ruidos_colocados = []\n",
        "    for i in range(num_ruidos):\n",
        "        if len(coordenadas) >= 1:\n",
        "            n = randint(0,len(coordenadas)-1)\n",
        "            cord = coordenadas[n]\n",
        "            lista_ruidos_colocados.append(coordenadas[n].tolist())\n",
        "            coordenadas.pop(n)\n",
        "            matriz[cord[0]][cord[1]] = randint(0,5)\n",
        "    return matriz, lista_ruidos_colocados\n",
        "\n",
        "    # lista_random = [randint(0,len(campos_nao_nulos)) for i in range(num_ruidos)]\n",
        "    # for rd in lista_random:\n",
        "    #     campos_nao_nulos_final.append(campos_nao_nulos[rd])\n",
        "    # for valor in campos_nao_nulos_final:\n",
        "    #     dataframe_inicial.loc[valor[0],valor[1]] = randint(0,5)\n",
        "    # inserindo os novos valores nas coordenadas selecionadas\n",
        "\n",
        "\n",
        "# data = {'coluna1': ['A', 'A', 'B', 'B'], 'coluna2': ['x', 'y', 'x', 'y'], 'valor': [1, 2, 3, 4]}\n",
        "# df = pd.DataFrame(data).pivot(index='coluna1', columns='coluna2', values='valor')\n",
        "# print(df)\n",
        "\n",
        "# df = introduzRuido(df,2)\n",
        "# print(df)"
      ],
      "metadata": {
        "id": "I2faq7IrSo2M"
      },
      "execution_count": 3,
      "outputs": []
    },
    {
      "cell_type": "code",
      "execution_count": 5,
      "metadata": {
        "id": "vnvQAWs8Rmr2"
      },
      "outputs": [],
      "source": [
        "#Criando o dataframe com os dados\n",
        "df = pd.read_csv(\"https://raw.githubusercontent.com/GustavoAntony/Flixnet/main/ratings_small.csv\")\n",
        "\n",
        "#Cria a matriz inicial\n",
        "A = df.pivot_table(index='userId', columns='movieId', values='rating').fillna(0)\n",
        "A = A.values\n",
        "\n",
        "erros = []\n",
        "\n",
        "for i in range(100):\n",
        "\n",
        "    B = copy.deepcopy(A)\n",
        "    #Introduz o ruido\n",
        "    B, coordenada_ruido = introduzRuido(B,1)\n",
        "    coordenada_ruido = coordenada_ruido[0]\n",
        "    \n",
        "    #Cria a matriz sem NaN's\n",
        "\n",
        "    u, s, vt = svd(B)\n",
        "\n",
        "    u_, s_, vt_ = comprimir(u,s,vt,100)\n",
        "    B2 = u_ @ np.diag(s_) @ vt_ \n",
        "\n",
        "\n",
        "\n",
        "\n",
        "    erros.append(abs(B2[coordenada_ruido[0],coordenada_ruido[1]] - A[coordenada_ruido[0],coordenada_ruido[1]]))\n",
        "\n",
        "df_erros = pd.DataFrame({\n",
        "    \"erro\": erros\n",
        "})\n",
        "\n",
        "df_erros.to_csv(\"erros001.csv\", index=False)\n",
        "\n",
        "\n",
        "\n",
        "\n",
        "#Criando o dataframe com os dados\n",
        "df = pd.read_csv(\"https://raw.githubusercontent.com/GustavoAntony/Flixnet/main/ratings_small.csv\")\n",
        "\n",
        "#Cria a matriz inicial\n",
        "A = df.pivot_table(index='userId', columns='movieId', values='rating').fillna(0)\n",
        "A = A.values\n",
        "\n",
        "erros = []\n",
        "\n",
        "for i in range(100):\n",
        "\n",
        "    B = copy.deepcopy(A)\n",
        "    #Introduz o ruido\n",
        "    B, coordenada_ruido = introduzRuido(B,1)\n",
        "    coordenada_ruido = coordenada_ruido[0]\n",
        "    \n",
        "    #Cria a matriz sem NaN's\n",
        "\n",
        "    u, s, vt = svd(B)\n",
        "\n",
        "    u_, s_, vt_ = comprimir(u,s,vt,100)\n",
        "    B2 = u_ @ np.diag(s_) @ vt_ \n",
        "\n",
        "\n",
        "\n",
        "\n",
        "    erros.append(abs(B2[coordenada_ruido[0],coordenada_ruido[1]] - A[coordenada_ruido[0],coordenada_ruido[1]]))\n",
        "\n",
        "df_erros = pd.DataFrame({\n",
        "    \"erro\": erros\n",
        "})\n",
        "\n",
        "df_erros.to_csv(\"erros002.csv\", index=False)"
      ]
    },
    {
      "cell_type": "code",
      "source": [],
      "metadata": {
        "id": "hXBhS2IUSf92"
      },
      "execution_count": null,
      "outputs": []
    }
  ]
}